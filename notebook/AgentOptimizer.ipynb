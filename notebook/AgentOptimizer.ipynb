{
 "cells": [
  {
   "cell_type": "code",
   "execution_count": 1,
   "metadata": {},
   "outputs": [],
   "source": [
    "import json\n",
    "import os\n",
    "import copy\n",
    "from typing import Union, List, Tuple, Dict, DefaultDict, Callable, Any, Optional\n",
    "\n",
    "import autogen\n",
    "from autogen import config_list_from_json\n",
    "from autogen.code_utils import extract_code\n",
    "from autogen.math_utils import get_answer\n",
    "from autogen.agentchat import Agent\n",
    "from autogen.agentchat.contrib.agent_optimizer import AgentOptimizer\n",
    "from autogen.agentchat.contrib.math_user_proxy_agent import MathUserProxyAgent"
   ]
  },
  {
   "cell_type": "markdown",
   "metadata": {},
   "source": [
    "## MathUserProxy with function_call"
   ]
  },
  {
   "cell_type": "markdown",
   "metadata": {},
   "source": [
    "This agent is a customized `MathUserProxy` inherits from its [parent class](https://github.com/microsoft/autogen/blob/main/autogen/agentchat/contrib/math_user_proxy_agent.py).\n",
    "\n",
    "It supports using both `function_call` and python to solve math problems."
   ]
  },
  {
   "cell_type": "code",
   "execution_count": 11,
   "metadata": {},
   "outputs": [],
   "source": [
    "def is_termination_msg_mathchat(message):\n",
    "    if isinstance(message, dict):\n",
    "        message = message.get('content')\n",
    "        if message is None: return False\n",
    "    \n",
    "    code_list = extract_code(message)\n",
    "    contain_code = False\n",
    "    for code in code_list:\n",
    "        if code[0] == 'python':\n",
    "            contain_code = True\n",
    "            break\n",
    "    \n",
    "    if message.rstrip().find('TERMINATE') > 0:\n",
    "        return True\n",
    "\n",
    "    answer = get_answer(message)\n",
    "    return contain_code and (answer is not None) and (answer != \"\")"
   ]
  },
  {
   "cell_type": "code",
   "execution_count": null,
   "metadata": {},
   "outputs": [],
   "source": []
  }
 ],
 "metadata": {
  "kernelspec": {
   "display_name": "llm-agent",
   "language": "python",
   "name": "python3"
  },
  "language_info": {
   "codemirror_mode": {
    "name": "ipython",
    "version": 3
   },
   "file_extension": ".py",
   "mimetype": "text/x-python",
   "name": "python",
   "nbconvert_exporter": "python",
   "pygments_lexer": "ipython3",
   "version": "3.10.14"
  }
 },
 "nbformat": 4,
 "nbformat_minor": 2
}
